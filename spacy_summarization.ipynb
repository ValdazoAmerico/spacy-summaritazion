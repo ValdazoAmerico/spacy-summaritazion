{
  "nbformat": 4,
  "nbformat_minor": 0,
  "metadata": {
    "colab": {
      "name": "spacy-summarization.ipynb",
      "provenance": [],
      "collapsed_sections": [],
      "authorship_tag": "ABX9TyMy1YTdulSC9BSLtV8DV6Ao",
      "include_colab_link": true
    },
    "kernelspec": {
      "name": "python3",
      "display_name": "Python 3"
    },
    "language_info": {
      "name": "python"
    }
  },
  "cells": [
    {
      "cell_type": "markdown",
      "metadata": {
        "id": "view-in-github",
        "colab_type": "text"
      },
      "source": [
        "<a href=\"https://colab.research.google.com/github/ValdazoAmerico/spacy-summaritazion/blob/main/spacy_summarization.ipynb\" target=\"_parent\"><img src=\"https://colab.research.google.com/assets/colab-badge.svg\" alt=\"Open In Colab\"/></a>"
      ]
    },
    {
      "cell_type": "code",
      "metadata": {
        "colab": {
          "base_uri": "https://localhost:8080/"
        },
        "id": "c6KdDE_YXBVD",
        "outputId": "6bda91fb-eb59-49da-a35a-b2ddd1fe3614"
      },
      "source": [
        "pip install spacy"
      ],
      "execution_count": 2,
      "outputs": [
        {
          "output_type": "stream",
          "text": [
            "Requirement already satisfied: spacy in /usr/local/lib/python3.7/dist-packages (2.2.4)\n",
            "Requirement already satisfied: setuptools in /usr/local/lib/python3.7/dist-packages (from spacy) (57.0.0)\n",
            "Requirement already satisfied: requests<3.0.0,>=2.13.0 in /usr/local/lib/python3.7/dist-packages (from spacy) (2.23.0)\n",
            "Requirement already satisfied: numpy>=1.15.0 in /usr/local/lib/python3.7/dist-packages (from spacy) (1.19.5)\n",
            "Requirement already satisfied: thinc==7.4.0 in /usr/local/lib/python3.7/dist-packages (from spacy) (7.4.0)\n",
            "Requirement already satisfied: preshed<3.1.0,>=3.0.2 in /usr/local/lib/python3.7/dist-packages (from spacy) (3.0.5)\n",
            "Requirement already satisfied: catalogue<1.1.0,>=0.0.7 in /usr/local/lib/python3.7/dist-packages (from spacy) (1.0.0)\n",
            "Requirement already satisfied: srsly<1.1.0,>=1.0.2 in /usr/local/lib/python3.7/dist-packages (from spacy) (1.0.5)\n",
            "Requirement already satisfied: wasabi<1.1.0,>=0.4.0 in /usr/local/lib/python3.7/dist-packages (from spacy) (0.8.2)\n",
            "Requirement already satisfied: tqdm<5.0.0,>=4.38.0 in /usr/local/lib/python3.7/dist-packages (from spacy) (4.41.1)\n",
            "Requirement already satisfied: plac<1.2.0,>=0.9.6 in /usr/local/lib/python3.7/dist-packages (from spacy) (1.1.3)\n",
            "Requirement already satisfied: murmurhash<1.1.0,>=0.28.0 in /usr/local/lib/python3.7/dist-packages (from spacy) (1.0.5)\n",
            "Requirement already satisfied: cymem<2.1.0,>=2.0.2 in /usr/local/lib/python3.7/dist-packages (from spacy) (2.0.5)\n",
            "Requirement already satisfied: blis<0.5.0,>=0.4.0 in /usr/local/lib/python3.7/dist-packages (from spacy) (0.4.1)\n",
            "Requirement already satisfied: idna<3,>=2.5 in /usr/local/lib/python3.7/dist-packages (from requests<3.0.0,>=2.13.0->spacy) (2.10)\n",
            "Requirement already satisfied: chardet<4,>=3.0.2 in /usr/local/lib/python3.7/dist-packages (from requests<3.0.0,>=2.13.0->spacy) (3.0.4)\n",
            "Requirement already satisfied: urllib3!=1.25.0,!=1.25.1,<1.26,>=1.21.1 in /usr/local/lib/python3.7/dist-packages (from requests<3.0.0,>=2.13.0->spacy) (1.24.3)\n",
            "Requirement already satisfied: certifi>=2017.4.17 in /usr/local/lib/python3.7/dist-packages (from requests<3.0.0,>=2.13.0->spacy) (2021.5.30)\n",
            "Requirement already satisfied: importlib-metadata>=0.20; python_version < \"3.8\" in /usr/local/lib/python3.7/dist-packages (from catalogue<1.1.0,>=0.0.7->spacy) (4.5.0)\n",
            "Requirement already satisfied: zipp>=0.5 in /usr/local/lib/python3.7/dist-packages (from importlib-metadata>=0.20; python_version < \"3.8\"->catalogue<1.1.0,>=0.0.7->spacy) (3.4.1)\n",
            "Requirement already satisfied: typing-extensions>=3.6.4; python_version < \"3.8\" in /usr/local/lib/python3.7/dist-packages (from importlib-metadata>=0.20; python_version < \"3.8\"->catalogue<1.1.0,>=0.0.7->spacy) (3.7.4.3)\n"
          ],
          "name": "stdout"
        }
      ]
    },
    {
      "cell_type": "code",
      "metadata": {
        "id": "KdsK5Q_Kdnwp"
      },
      "source": [
        "from spacy import displacy"
      ],
      "execution_count": 29,
      "outputs": []
    },
    {
      "cell_type": "code",
      "metadata": {
        "colab": {
          "base_uri": "https://localhost:8080/"
        },
        "id": "6SvMGXFJdgAo",
        "outputId": "93cf312c-00fc-462e-e43e-641f4d398f8c"
      },
      "source": [
        "pip install https://github.com/explosion/spacy-models/releases/download/es_core_web_md-1.0.0/es_core_web_md-1.0.0.tar.gz"
      ],
      "execution_count": 35,
      "outputs": [
        {
          "output_type": "stream",
          "text": [
            "Collecting https://github.com/explosion/spacy-models/releases/download/es_core_web_md-1.0.0/es_core_web_md-1.0.0.tar.gz\n",
            "\u001b[?25l  Downloading https://github.com/explosion/spacy-models/releases/download/es_core_web_md-1.0.0/es_core_web_md-1.0.0.tar.gz (395.1MB)\n",
            "\u001b[K     |████████████████████████████████| 395.1MB 27kB/s \n",
            "\u001b[?25hCollecting spacy<2.0.0,>=1.8.0\n",
            "\u001b[?25l  Downloading https://files.pythonhosted.org/packages/ad/95/f51aad3f10c8d463ff8104968076b7014372696612ee95f3bd397c3375d9/spacy-1.10.1.tar.gz (3.4MB)\n",
            "\u001b[K     |████████████████████████████████| 3.4MB 11.1MB/s \n",
            "\u001b[?25hRequirement already satisfied: numpy>=1.7 in /usr/local/lib/python3.7/dist-packages (from spacy<2.0.0,>=1.8.0->es-core-web-md==1.0.0) (1.19.5)\n",
            "Collecting murmurhash<0.27,>=0.26\n",
            "  Downloading https://files.pythonhosted.org/packages/ff/53/1f428861e59c2382e22b8839d03cc315e1a7633a827497b3d389b8d8772d/murmurhash-0.26.4.tar.gz\n",
            "Collecting cymem<1.32,>=1.30\n",
            "  Downloading https://files.pythonhosted.org/packages/f8/9e/273fbea507de99166c11cd0cb3fde1ac01b5bc724d9a407a2f927ede91a1/cymem-1.31.2.tar.gz\n",
            "Collecting preshed<2.0.0,>=1.0.0\n",
            "\u001b[?25l  Downloading https://files.pythonhosted.org/packages/f4/0c/64933c18f02fbf46acdd0c7705ec1c1194f58b564bb5a2d140fabcb37bad/preshed-1.0.1-cp37-cp37m-manylinux1_x86_64.whl (79kB)\n",
            "\u001b[K     |████████████████████████████████| 81kB 5.0MB/s \n",
            "\u001b[?25hCollecting thinc<6.6.0,>=6.5.0\n",
            "\u001b[?25l  Downloading https://files.pythonhosted.org/packages/f7/9b/78fab962e0c8b55e3a745ebf2458708dfc7922c55eca3a9bff0233b25294/thinc-6.5.2.tar.gz (926kB)\n",
            "\u001b[K     |████████████████████████████████| 931kB 29.3MB/s \n",
            "\u001b[?25hCollecting plac<1.0.0,>=0.9.6\n",
            "  Downloading https://files.pythonhosted.org/packages/9e/9b/62c60d2f5bc135d2aa1d8c8a86aaf84edb719a59c7f11a4316259e61a298/plac-0.9.6-py2.py3-none-any.whl\n",
            "Requirement already satisfied: six in /usr/local/lib/python3.7/dist-packages (from spacy<2.0.0,>=1.8.0->es-core-web-md==1.0.0) (1.15.0)\n",
            "Requirement already satisfied: pathlib in /usr/local/lib/python3.7/dist-packages (from spacy<2.0.0,>=1.8.0->es-core-web-md==1.0.0) (1.0.1)\n",
            "Collecting ujson>=1.35\n",
            "\u001b[?25l  Downloading https://files.pythonhosted.org/packages/17/4e/50e8e4cf5f00b537095711c2c86ac4d7191aed2b4fffd5a19f06898f6929/ujson-4.0.2-cp37-cp37m-manylinux1_x86_64.whl (179kB)\n",
            "\u001b[K     |████████████████████████████████| 184kB 39.7MB/s \n",
            "\u001b[?25hCollecting dill<0.3,>=0.2\n",
            "\u001b[?25l  Downloading https://files.pythonhosted.org/packages/fe/42/bfe2e0857bc284cbe6a011d93f2a9ad58a22cb894461b199ae72cfef0f29/dill-0.2.9.tar.gz (150kB)\n",
            "\u001b[K     |████████████████████████████████| 153kB 46.9MB/s \n",
            "\u001b[?25hRequirement already satisfied: requests<3.0.0,>=2.13.0 in /usr/local/lib/python3.7/dist-packages (from spacy<2.0.0,>=1.8.0->es-core-web-md==1.0.0) (2.23.0)\n",
            "Collecting regex<2017.12.1,>=2017.4.1\n",
            "\u001b[?25l  Downloading https://files.pythonhosted.org/packages/b4/fb/e894cf877cc3ad788892899c23e2a73e3e54524c4ec6e5d3826fe153af80/regex-2017.11.09.tar.gz (608kB)\n",
            "\u001b[K     |████████████████████████████████| 614kB 33.6MB/s \n",
            "\u001b[?25hCollecting ftfy<5.0.0,>=4.4.2\n",
            "\u001b[?25l  Downloading https://files.pythonhosted.org/packages/21/5d/9385540977b00df1f3a0c0f07b7e6c15b5e7a3109d7f6ae78a0a764dab22/ftfy-4.4.3.tar.gz (50kB)\n",
            "\u001b[K     |████████████████████████████████| 51kB 3.8MB/s \n",
            "\u001b[?25hRequirement already satisfied: wrapt in /usr/local/lib/python3.7/dist-packages (from thinc<6.6.0,>=6.5.0->spacy<2.0.0,>=1.8.0->es-core-web-md==1.0.0) (1.12.1)\n",
            "Requirement already satisfied: tqdm<5.0.0,>=4.10.0 in /usr/local/lib/python3.7/dist-packages (from thinc<6.6.0,>=6.5.0->spacy<2.0.0,>=1.8.0->es-core-web-md==1.0.0) (4.41.1)\n",
            "Collecting cytoolz<0.9,>=0.8\n",
            "\u001b[?25l  Downloading https://files.pythonhosted.org/packages/0f/e6/ccc124714dcc1bd511e64ddafb4d5d20ada2533b92e3173a4cf09e0d0831/cytoolz-0.8.2.tar.gz (386kB)\n",
            "\u001b[K     |████████████████████████████████| 389kB 37.2MB/s \n",
            "\u001b[?25hRequirement already satisfied: termcolor in /usr/local/lib/python3.7/dist-packages (from thinc<6.6.0,>=6.5.0->spacy<2.0.0,>=1.8.0->es-core-web-md==1.0.0) (1.1.0)\n",
            "Requirement already satisfied: idna<3,>=2.5 in /usr/local/lib/python3.7/dist-packages (from requests<3.0.0,>=2.13.0->spacy<2.0.0,>=1.8.0->es-core-web-md==1.0.0) (2.10)\n",
            "Requirement already satisfied: chardet<4,>=3.0.2 in /usr/local/lib/python3.7/dist-packages (from requests<3.0.0,>=2.13.0->spacy<2.0.0,>=1.8.0->es-core-web-md==1.0.0) (3.0.4)\n",
            "Requirement already satisfied: certifi>=2017.4.17 in /usr/local/lib/python3.7/dist-packages (from requests<3.0.0,>=2.13.0->spacy<2.0.0,>=1.8.0->es-core-web-md==1.0.0) (2021.5.30)\n",
            "Requirement already satisfied: urllib3!=1.25.0,!=1.25.1,<1.26,>=1.21.1 in /usr/local/lib/python3.7/dist-packages (from requests<3.0.0,>=2.13.0->spacy<2.0.0,>=1.8.0->es-core-web-md==1.0.0) (1.24.3)\n",
            "Requirement already satisfied: html5lib in /usr/local/lib/python3.7/dist-packages (from ftfy<5.0.0,>=4.4.2->spacy<2.0.0,>=1.8.0->es-core-web-md==1.0.0) (1.0.1)\n",
            "Requirement already satisfied: wcwidth in /usr/local/lib/python3.7/dist-packages (from ftfy<5.0.0,>=4.4.2->spacy<2.0.0,>=1.8.0->es-core-web-md==1.0.0) (0.2.5)\n",
            "Requirement already satisfied: toolz>=0.8.0 in /usr/local/lib/python3.7/dist-packages (from cytoolz<0.9,>=0.8->thinc<6.6.0,>=6.5.0->spacy<2.0.0,>=1.8.0->es-core-web-md==1.0.0) (0.11.1)\n",
            "Requirement already satisfied: webencodings in /usr/local/lib/python3.7/dist-packages (from html5lib->ftfy<5.0.0,>=4.4.2->spacy<2.0.0,>=1.8.0->es-core-web-md==1.0.0) (0.5.1)\n",
            "Building wheels for collected packages: es-core-web-md, spacy, murmurhash, cymem, thinc, dill, regex, ftfy, cytoolz\n",
            "  Building wheel for es-core-web-md (setup.py) ... \u001b[?25l\u001b[?25hdone\n",
            "  Created wheel for es-core-web-md: filename=es_core_web_md-1.0.0-cp37-none-any.whl size=403582158 sha256=c03e8a4a9ae072587f44480cbad53b398e612a74f5fd7073e02ea69e7d876ea6\n",
            "  Stored in directory: /root/.cache/pip/wheels/fb/7c/94/7c7bdecdd1035590e9184b94c9e5f371f8b73a94ef102b19a6\n",
            "  Building wheel for spacy (setup.py) ... \u001b[?25lerror\n",
            "\u001b[31m  ERROR: Failed building wheel for spacy\u001b[0m\n",
            "\u001b[?25h  Running setup.py clean for spacy\n",
            "  Building wheel for murmurhash (setup.py) ... \u001b[?25l\u001b[?25hdone\n",
            "  Created wheel for murmurhash: filename=murmurhash-0.26.4-cp37-cp37m-linux_x86_64.whl size=42265 sha256=70fbbeec00d4256038237a7781e5d1d873e68c667e742fca42e198aba6cfebbe\n",
            "  Stored in directory: /root/.cache/pip/wheels/90/af/51/9efd49862c6dcb6439baaa235714fc4de5cecf3e01613b2fef\n",
            "  Building wheel for cymem (setup.py) ... \u001b[?25l\u001b[?25hdone\n",
            "  Created wheel for cymem: filename=cymem-1.31.2-cp37-cp37m-linux_x86_64.whl size=76987 sha256=bb8142ebf0ede4f8a7500675d3230551ef636da54d162dc3e2c281057498abb5\n",
            "  Stored in directory: /root/.cache/pip/wheels/55/8d/4a/f6328252aa2aaec0b1cb906fd96a1566d77f0f67701071ad13\n",
            "  Building wheel for thinc (setup.py) ... \u001b[?25lerror\n",
            "\u001b[31m  ERROR: Failed building wheel for thinc\u001b[0m\n",
            "\u001b[?25h  Running setup.py clean for thinc\n",
            "  Building wheel for dill (setup.py) ... \u001b[?25l\u001b[?25hdone\n",
            "  Created wheel for dill: filename=dill-0.2.9-cp37-none-any.whl size=77421 sha256=7c98fbc697c2a69fc94567af724304f06c6c86972e5be844cf92c1832be497a4\n",
            "  Stored in directory: /root/.cache/pip/wheels/5b/d7/0f/e58eae695403de585269f4e4a94e0cd6ca60ec0c202936fa4a\n",
            "  Building wheel for regex (setup.py) ... \u001b[?25l\u001b[?25hdone\n",
            "  Created wheel for regex: filename=regex-2017.11.9-cp37-cp37m-linux_x86_64.whl size=539906 sha256=69b14a0c8858cd84f7b61b8ef61659f86068c9b63b0cb07cc399815e1f284496\n",
            "  Stored in directory: /root/.cache/pip/wheels/5c/ae/8f/cab02cdf653ac0a2e9d9ec302721ae3c20052a36951addd111\n",
            "  Building wheel for ftfy (setup.py) ... \u001b[?25l\u001b[?25hdone\n",
            "  Created wheel for ftfy: filename=ftfy-4.4.3-cp37-none-any.whl size=41085 sha256=4173e81e0be4eb4cc9f88375eba7980a38cf2e432850c96d00afe66aad2a6147\n",
            "  Stored in directory: /root/.cache/pip/wheels/37/54/00/d320239bfc8aad1455314f302dd82a75253fc585e17b81704e\n",
            "  Building wheel for cytoolz (setup.py) ... \u001b[?25lerror\n",
            "\u001b[31m  ERROR: Failed building wheel for cytoolz\u001b[0m\n",
            "\u001b[?25h  Running setup.py clean for cytoolz\n",
            "Successfully built es-core-web-md murmurhash cymem dill regex ftfy\n",
            "Failed to build spacy thinc cytoolz\n",
            "\u001b[31mERROR: multiprocess 0.70.11.1 has requirement dill>=0.3.3, but you'll have dill 0.2.9 which is incompatible.\u001b[0m\n",
            "\u001b[31mERROR: fastai 1.0.61 has requirement spacy>=2.0.18; python_version < \"3.8\", but you'll have spacy 1.10.1 which is incompatible.\u001b[0m\n",
            "\u001b[31mERROR: en-core-web-sm 2.2.5 has requirement spacy>=2.2.2, but you'll have spacy 1.10.1 which is incompatible.\u001b[0m\n",
            "Installing collected packages: murmurhash, cymem, preshed, cytoolz, plac, dill, thinc, ujson, regex, ftfy, spacy, es-core-web-md\n",
            "  Found existing installation: murmurhash 1.0.5\n",
            "    Uninstalling murmurhash-1.0.5:\n",
            "      Successfully uninstalled murmurhash-1.0.5\n",
            "  Found existing installation: cymem 2.0.5\n",
            "    Uninstalling cymem-2.0.5:\n",
            "      Successfully uninstalled cymem-2.0.5\n",
            "  Found existing installation: preshed 3.0.5\n",
            "    Uninstalling preshed-3.0.5:\n",
            "      Successfully uninstalled preshed-3.0.5\n",
            "    Running setup.py install for cytoolz ... \u001b[?25l\u001b[?25herror\n",
            "\u001b[31mERROR: Command errored out with exit status 1: /usr/bin/python3 -u -c 'import sys, setuptools, tokenize; sys.argv[0] = '\"'\"'/tmp/pip-install-ngzym2dx/cytoolz/setup.py'\"'\"'; __file__='\"'\"'/tmp/pip-install-ngzym2dx/cytoolz/setup.py'\"'\"';f=getattr(tokenize, '\"'\"'open'\"'\"', open)(__file__);code=f.read().replace('\"'\"'\\r\\n'\"'\"', '\"'\"'\\n'\"'\"');f.close();exec(compile(code, __file__, '\"'\"'exec'\"'\"'))' install --record /tmp/pip-record-lfi588xz/install-record.txt --single-version-externally-managed --compile Check the logs for full command output.\u001b[0m\n"
          ],
          "name": "stdout"
        }
      ]
    },
    {
      "cell_type": "code",
      "metadata": {
        "id": "V-yIKeLQfFON"
      },
      "source": [
        ""
      ],
      "execution_count": null,
      "outputs": []
    },
    {
      "cell_type": "code",
      "metadata": {
        "colab": {
          "base_uri": "https://localhost:8080/",
          "height": 132
        },
        "id": "a1TrqH6cfFFD",
        "outputId": "f6f5d057-f136-4c8f-8597-118df4ee8461"
      },
      "source": [
        "python -m spacy download es_core_web_md"
      ],
      "execution_count": 34,
      "outputs": [
        {
          "output_type": "error",
          "ename": "SyntaxError",
          "evalue": "ignored",
          "traceback": [
            "\u001b[0;36m  File \u001b[0;32m\"<ipython-input-34-58431e00b473>\"\u001b[0;36m, line \u001b[0;32m1\u001b[0m\n\u001b[0;31m    python -m spacy download es_core_web_md\u001b[0m\n\u001b[0m                  ^\u001b[0m\n\u001b[0;31mSyntaxError\u001b[0m\u001b[0;31m:\u001b[0m invalid syntax\n"
          ]
        }
      ]
    },
    {
      "cell_type": "code",
      "metadata": {
        "colab": {
          "base_uri": "https://localhost:8080/",
          "height": 320
        },
        "id": "0aBesrjigxJt",
        "outputId": "2ee19112-14a9-4c40-93de-8112775bedcc"
      },
      "source": [
        "text"
      ],
      "execution_count": 38,
      "outputs": [
        {
          "output_type": "execute_result",
          "data": {
            "application/vnd.google.colaboratory.intrinsic+json": {
              "type": "string"
            },
            "text/plain": [
              "'In an attempt to build an AI-ready workforce, Microsoft announced Intelligent Cloud Hub which has been launched to empower the next generation of students with AI-ready skills. Envisioned as a three-year collaborative program, Intelligent Cloud Hub will support around 100 institutions with AI infrastructure, course content and curriculum, developer support, development tools and give students access to cloud and AI services. As part of the program, the Redmond giant which wants to expand its reach and is planning to build a strong developer ecosystem in India with the program will set up the core AI infrastructure and IoT Hub for the selected campuses. The company will provide AI development tools and Azure AI services such as Microsoft Cognitive Services, Bot Services and Azure Machine Learning.According to Manish Prakash, Country General Manager-PS, Health and Education, Microsoft India, said, \"With AI being the defining technology of our time, it is transforming lives and industry and the jobs of tomorrow will require a different skillset. This will require more collaborations and training and working with AI. That’s why it has become more critical than ever for educational institutions to integrate new cloud and AI technologies. The program is an attempt to ramp up the institutional set-up and build capabilities among the educators to educate the workforce of tomorrow.\" The program aims to build up the cognitive skills and in-depth understanding of developing intelligent cloud connected solutions for applications across industry. Earlier in April this year, the company announced Microsoft Professional Program In AI as a learning track open to the public. The program was developed to provide job ready skills to programmers who wanted to hone their skills in AI and data science with a series of online courses which featured hands-on labs and expert instructors as well. This program also included developer-focused AI school that provided a bunch of assets to help build AI skills.'"
            ]
          },
          "metadata": {
            "tags": []
          },
          "execution_count": 38
        }
      ]
    },
    {
      "cell_type": "code",
      "metadata": {
        "colab": {
          "base_uri": "https://localhost:8080/"
        },
        "id": "5WXJdW5xXdEm",
        "outputId": "43575317-7b0b-4429-d548-7613377b1c6b"
      },
      "source": [
        "import spacy\n",
        "from spacy.lang.en.stop_words import STOP_WORDS\n",
        "from string import punctuation\n",
        "f=open('msft.txt','r',errors='ignore')\n",
        "text = f.read()\n",
        "\n",
        "stopwords = list(STOP_WORDS)\n",
        "print(stopwords)\n",
        "nlp = spacy.load('en_core_web_sm')\n",
        "doc = nlp(text)"
      ],
      "execution_count": 37,
      "outputs": [
        {
          "output_type": "stream",
          "text": [
            "['but', 'since', 'formerly', 'anyone', 'seeming', 'whatever', 'either', 'see', 'yours', 'whether', '‘ll', 'nor', 'amount', 'enough', 'anyway', 'make', 'herself', 'latter', 'across', 'under', 'hence', 'as', 'than', 'down', 'being', 'too', 'these', 'perhaps', 'three', 'ours', 'who', 'within', \"n't\", 'should', 'between', 'into', '’ve', 'for', '‘s', 'thereupon', 'show', 'such', 'us', 'has', 'alone', 'now', 'unless', 'sixty', 'through', 'both', 'made', 'have', 'hereupon', 'next', 'therein', 'sometime', '’m', 'other', 'elsewhere', 'because', 'whoever', 'not', 'more', 'throughout', 'him', 'how', 'i', 'here', 'without', 'former', 'can', 'all', 'what', 'together', 'it', 'around', 'else', \"'s\", 'n’t', 'almost', \"'ll\", 'few', 'to', 'those', 'whose', 'always', 'using', 'above', 'wherever', 'no', 'somewhere', 'less', 'whereby', 'itself', 'by', 'most', 'fifty', 'again', 'thereafter', 'became', 'front', '‘ve', 'among', 'never', 'be', 'amongst', 'namely', 'go', 'except', 'will', 'from', 'beside', 'herein', 'side', 'may', 'had', 'once', 'anyhow', 'forty', 'thus', 'this', 'his', 'everyone', 'moreover', 're', 'besides', 'neither', 'wherein', 'himself', 'we', 'whole', 'is', 'however', 'whither', 'keep', 'am', 'n‘t', 'even', 'seem', 'top', 'seemed', 'yourselves', '‘re', 'seems', 'so', 'although', 'then', 'take', 'there', '’ll', 'out', 'were', 'during', 'a', 'get', 'hereby', 'one', '‘d', 'or', 'really', 'toward', 'also', 'nothing', 'somehow', 'beyond', 'various', 'something', 'twelve', 'whence', 'some', 'where', 'afterwards', 'last', 'twenty', 'whenever', 'an', 'regarding', 'of', 'themselves', 'me', 'does', 'call', 'still', \"'m\", 'same', '’d', 'at', 'none', 'on', 'her', 'do', 'latterly', 'nevertheless', 'used', 'off', 'upon', 'full', 'before', 'nobody', 'they', 'well', 'hereafter', 'in', 'below', 'with', 'become', 'only', 'might', 'indeed', 'much', 'mine', 'yet', 'name', 'up', 'two', 'must', 'serious', \"'d\", 'onto', 'everything', 'would', 'five', 'been', 'rather', 'our', 'until', 'several', '’re', 'via', 'move', 'say', 'thereby', 'against', 'due', 'if', 'about', 'third', 'part', 'anything', 'sometimes', \"'re\", 'fifteen', 'hers', 'was', 'meanwhile', 'done', 'their', '’s', 'behind', 'myself', 'whereas', 'when', 'thru', 'yourself', 'towards', 'first', 'could', 'someone', 'you', 'anywhere', 'own', 'please', 'each', 'did', 'eight', 'thence', 'becoming', 'very', 'my', 'which', 'whereupon', 'ten', 'noone', 'others', 'becomes', 'while', 'bottom', 'your', '‘m', 'put', 'further', 'eleven', 'ca', 'six', 'them', 'ourselves', 'any', 'least', 'four', 'hundred', 'why', 'already', 'he', 'are', 'along', 'nine', 'just', 'therefore', 'whom', 'beforehand', 'quite', 'she', 'mostly', 'give', 'that', 'back', 'and', 'after', 'everywhere', 'many', 'over', 'nowhere', 'otherwise', \"'ve\", 'another', 'empty', 'per', 'ever', 'its', 'often', 'the', 'every', 'though', 'whereafter', 'doing', 'cannot']\n"
          ],
          "name": "stdout"
        }
      ]
    },
    {
      "cell_type": "code",
      "metadata": {
        "colab": {
          "base_uri": "https://localhost:8080/"
        },
        "id": "KXb2Nlr3X12D",
        "outputId": "eb5123c0-f835-44d2-f5e8-981b7cc37255"
      },
      "source": [
        "tokens = [token.text for token in doc]\n",
        "print(tokens)"
      ],
      "execution_count": 39,
      "outputs": [
        {
          "output_type": "stream",
          "text": [
            "['In', 'an', 'attempt', 'to', 'build', 'an', 'AI', '-', 'ready', 'workforce', ',', 'Microsoft', 'announced', 'Intelligent', 'Cloud', 'Hub', 'which', 'has', 'been', 'launched', 'to', 'empower', 'the', 'next', 'generation', 'of', 'students', 'with', 'AI', '-', 'ready', 'skills', '.', 'Envisioned', 'as', 'a', 'three', '-', 'year', 'collaborative', 'program', ',', 'Intelligent', 'Cloud', 'Hub', 'will', 'support', 'around', '100', 'institutions', 'with', 'AI', 'infrastructure', ',', 'course', 'content', 'and', 'curriculum', ',', 'developer', 'support', ',', 'development', 'tools', 'and', 'give', 'students', 'access', 'to', 'cloud', 'and', 'AI', 'services', '.', 'As', 'part', 'of', 'the', 'program', ',', 'the', 'Redmond', 'giant', 'which', 'wants', 'to', 'expand', 'its', 'reach', 'and', 'is', 'planning', 'to', 'build', 'a', 'strong', 'developer', 'ecosystem', 'in', 'India', 'with', 'the', 'program', 'will', 'set', 'up', 'the', 'core', 'AI', 'infrastructure', 'and', 'IoT', 'Hub', 'for', 'the', 'selected', 'campuses', '.', 'The', 'company', 'will', 'provide', 'AI', 'development', 'tools', 'and', 'Azure', 'AI', 'services', 'such', 'as', 'Microsoft', 'Cognitive', 'Services', ',', 'Bot', 'Services', 'and', 'Azure', 'Machine', 'Learning', '.', 'According', 'to', 'Manish', 'Prakash', ',', 'Country', 'General', 'Manager', '-', 'PS', ',', 'Health', 'and', 'Education', ',', 'Microsoft', 'India', ',', 'said', ',', '\"', 'With', 'AI', 'being', 'the', 'defining', 'technology', 'of', 'our', 'time', ',', 'it', 'is', 'transforming', 'lives', 'and', 'industry', 'and', 'the', 'jobs', 'of', 'tomorrow', 'will', 'require', 'a', 'different', 'skillset', '.', 'This', 'will', 'require', 'more', 'collaborations', 'and', 'training', 'and', 'working', 'with', 'AI', '.', 'That', '’s', 'why', 'it', 'has', 'become', 'more', 'critical', 'than', 'ever', 'for', 'educational', 'institutions', 'to', 'integrate', 'new', 'cloud', 'and', 'AI', 'technologies', '.', 'The', 'program', 'is', 'an', 'attempt', 'to', 'ramp', 'up', 'the', 'institutional', 'set', '-', 'up', 'and', 'build', 'capabilities', 'among', 'the', 'educators', 'to', 'educate', 'the', 'workforce', 'of', 'tomorrow', '.', '\"', 'The', 'program', 'aims', 'to', 'build', 'up', 'the', 'cognitive', 'skills', 'and', 'in', '-', 'depth', 'understanding', 'of', 'developing', 'intelligent', 'cloud', 'connected', 'solutions', 'for', 'applications', 'across', 'industry', '.', 'Earlier', 'in', 'April', 'this', 'year', ',', 'the', 'company', 'announced', 'Microsoft', 'Professional', 'Program', 'In', 'AI', 'as', 'a', 'learning', 'track', 'open', 'to', 'the', 'public', '.', 'The', 'program', 'was', 'developed', 'to', 'provide', 'job', 'ready', 'skills', 'to', 'programmers', 'who', 'wanted', 'to', 'hone', 'their', 'skills', 'in', 'AI', 'and', 'data', 'science', 'with', 'a', 'series', 'of', 'online', 'courses', 'which', 'featured', 'hands', '-', 'on', 'labs', 'and', 'expert', 'instructors', 'as', 'well', '.', 'This', 'program', 'also', 'included', 'developer', '-', 'focused', 'AI', 'school', 'that', 'provided', 'a', 'bunch', 'of', 'assets', 'to', 'help', 'build', 'AI', 'skills', '.']\n"
          ],
          "name": "stdout"
        }
      ]
    },
    {
      "cell_type": "code",
      "metadata": {
        "colab": {
          "base_uri": "https://localhost:8080/"
        },
        "id": "zjABqYsNYc9p",
        "outputId": "93412c75-d285-4ba4-ae30-fe50b3367d7e"
      },
      "source": [
        "print(punctuation)"
      ],
      "execution_count": 40,
      "outputs": [
        {
          "output_type": "stream",
          "text": [
            "!\"#$%&'()*+,-./:;<=>?@[\\]^_`{|}~\n"
          ],
          "name": "stdout"
        }
      ]
    },
    {
      "cell_type": "code",
      "metadata": {
        "colab": {
          "base_uri": "https://localhost:8080/"
        },
        "id": "IdxYs39lYfzK",
        "outputId": "5ac99a08-ba53-4ea7-cffd-40eeb31e76dd"
      },
      "source": [
        "word_frequencies = {}\n",
        "for word in doc:\n",
        "  if word.text.lower() not in stopwords:\n",
        "    if word.text.lower() not in punctuation:\n",
        "      if word.text not in word_frequencies.keys():\n",
        "        word_frequencies[word.text] = 1\n",
        "      else:\n",
        "        word_frequencies[word.text] +=1\n",
        "\n",
        "print(word_frequencies)\n",
        "\n",
        "max_frequency = max(word_frequencies.values())\n",
        "print(max_frequency)"
      ],
      "execution_count": 42,
      "outputs": [
        {
          "output_type": "stream",
          "text": [
            "{'attempt': 2, 'build': 5, 'AI': 14, 'ready': 3, 'workforce': 2, 'Microsoft': 4, 'announced': 2, 'Intelligent': 2, 'Cloud': 2, 'Hub': 3, 'launched': 1, 'empower': 1, 'generation': 1, 'students': 2, 'skills': 5, 'Envisioned': 1, 'year': 2, 'collaborative': 1, 'program': 7, 'support': 2, '100': 1, 'institutions': 2, 'infrastructure': 2, 'course': 1, 'content': 1, 'curriculum': 1, 'developer': 3, 'development': 2, 'tools': 2, 'access': 1, 'cloud': 3, 'services': 2, 'Redmond': 1, 'giant': 1, 'wants': 1, 'expand': 1, 'reach': 1, 'planning': 1, 'strong': 1, 'ecosystem': 1, 'India': 2, 'set': 2, 'core': 1, 'IoT': 1, 'selected': 1, 'campuses': 1, 'company': 2, 'provide': 2, 'Azure': 2, 'Cognitive': 1, 'Services': 2, 'Bot': 1, 'Machine': 1, 'Learning': 1, 'According': 1, 'Manish': 1, 'Prakash': 1, 'Country': 1, 'General': 1, 'Manager': 1, 'PS': 1, 'Health': 1, 'Education': 1, 'said': 1, 'defining': 1, 'technology': 1, 'time': 1, 'transforming': 1, 'lives': 1, 'industry': 2, 'jobs': 1, 'tomorrow': 2, 'require': 2, 'different': 1, 'skillset': 1, 'collaborations': 1, 'training': 1, 'working': 1, 'critical': 1, 'educational': 1, 'integrate': 1, 'new': 1, 'technologies': 1, 'ramp': 1, 'institutional': 1, 'capabilities': 1, 'educators': 1, 'educate': 1, 'aims': 1, 'cognitive': 1, 'depth': 1, 'understanding': 1, 'developing': 1, 'intelligent': 1, 'connected': 1, 'solutions': 1, 'applications': 1, 'Earlier': 1, 'April': 1, 'Professional': 1, 'Program': 1, 'learning': 1, 'track': 1, 'open': 1, 'public': 1, 'developed': 1, 'job': 1, 'programmers': 1, 'wanted': 1, 'hone': 1, 'data': 1, 'science': 1, 'series': 1, 'online': 1, 'courses': 1, 'featured': 1, 'hands': 1, 'labs': 1, 'expert': 1, 'instructors': 1, 'included': 1, 'focused': 1, 'school': 1, 'provided': 1, 'bunch': 1, 'assets': 1, 'help': 1}\n",
            "14\n"
          ],
          "name": "stdout"
        }
      ]
    },
    {
      "cell_type": "code",
      "metadata": {
        "colab": {
          "base_uri": "https://localhost:8080/"
        },
        "id": "zuhbkRFta8Vo",
        "outputId": "969670e8-d796-43aa-d208-420e0dfdc7c2"
      },
      "source": [
        "for word in word_frequencies.keys():\n",
        "  word_frequencies[word] = word_frequencies[word]/max_frequency\n",
        "\n",
        "print(word_frequencies)\n",
        "\n",
        "sentence_tokens = [sent for sent in doc.sents]\n",
        "print(sentence_tokens)"
      ],
      "execution_count": 43,
      "outputs": [
        {
          "output_type": "stream",
          "text": [
            "{'attempt': 0.14285714285714285, 'build': 0.35714285714285715, 'AI': 1.0, 'ready': 0.21428571428571427, 'workforce': 0.14285714285714285, 'Microsoft': 0.2857142857142857, 'announced': 0.14285714285714285, 'Intelligent': 0.14285714285714285, 'Cloud': 0.14285714285714285, 'Hub': 0.21428571428571427, 'launched': 0.07142857142857142, 'empower': 0.07142857142857142, 'generation': 0.07142857142857142, 'students': 0.14285714285714285, 'skills': 0.35714285714285715, 'Envisioned': 0.07142857142857142, 'year': 0.14285714285714285, 'collaborative': 0.07142857142857142, 'program': 0.5, 'support': 0.14285714285714285, '100': 0.07142857142857142, 'institutions': 0.14285714285714285, 'infrastructure': 0.14285714285714285, 'course': 0.07142857142857142, 'content': 0.07142857142857142, 'curriculum': 0.07142857142857142, 'developer': 0.21428571428571427, 'development': 0.14285714285714285, 'tools': 0.14285714285714285, 'access': 0.07142857142857142, 'cloud': 0.21428571428571427, 'services': 0.14285714285714285, 'Redmond': 0.07142857142857142, 'giant': 0.07142857142857142, 'wants': 0.07142857142857142, 'expand': 0.07142857142857142, 'reach': 0.07142857142857142, 'planning': 0.07142857142857142, 'strong': 0.07142857142857142, 'ecosystem': 0.07142857142857142, 'India': 0.14285714285714285, 'set': 0.14285714285714285, 'core': 0.07142857142857142, 'IoT': 0.07142857142857142, 'selected': 0.07142857142857142, 'campuses': 0.07142857142857142, 'company': 0.14285714285714285, 'provide': 0.14285714285714285, 'Azure': 0.14285714285714285, 'Cognitive': 0.07142857142857142, 'Services': 0.14285714285714285, 'Bot': 0.07142857142857142, 'Machine': 0.07142857142857142, 'Learning': 0.07142857142857142, 'According': 0.07142857142857142, 'Manish': 0.07142857142857142, 'Prakash': 0.07142857142857142, 'Country': 0.07142857142857142, 'General': 0.07142857142857142, 'Manager': 0.07142857142857142, 'PS': 0.07142857142857142, 'Health': 0.07142857142857142, 'Education': 0.07142857142857142, 'said': 0.07142857142857142, 'defining': 0.07142857142857142, 'technology': 0.07142857142857142, 'time': 0.07142857142857142, 'transforming': 0.07142857142857142, 'lives': 0.07142857142857142, 'industry': 0.14285714285714285, 'jobs': 0.07142857142857142, 'tomorrow': 0.14285714285714285, 'require': 0.14285714285714285, 'different': 0.07142857142857142, 'skillset': 0.07142857142857142, 'collaborations': 0.07142857142857142, 'training': 0.07142857142857142, 'working': 0.07142857142857142, 'critical': 0.07142857142857142, 'educational': 0.07142857142857142, 'integrate': 0.07142857142857142, 'new': 0.07142857142857142, 'technologies': 0.07142857142857142, 'ramp': 0.07142857142857142, 'institutional': 0.07142857142857142, 'capabilities': 0.07142857142857142, 'educators': 0.07142857142857142, 'educate': 0.07142857142857142, 'aims': 0.07142857142857142, 'cognitive': 0.07142857142857142, 'depth': 0.07142857142857142, 'understanding': 0.07142857142857142, 'developing': 0.07142857142857142, 'intelligent': 0.07142857142857142, 'connected': 0.07142857142857142, 'solutions': 0.07142857142857142, 'applications': 0.07142857142857142, 'Earlier': 0.07142857142857142, 'April': 0.07142857142857142, 'Professional': 0.07142857142857142, 'Program': 0.07142857142857142, 'learning': 0.07142857142857142, 'track': 0.07142857142857142, 'open': 0.07142857142857142, 'public': 0.07142857142857142, 'developed': 0.07142857142857142, 'job': 0.07142857142857142, 'programmers': 0.07142857142857142, 'wanted': 0.07142857142857142, 'hone': 0.07142857142857142, 'data': 0.07142857142857142, 'science': 0.07142857142857142, 'series': 0.07142857142857142, 'online': 0.07142857142857142, 'courses': 0.07142857142857142, 'featured': 0.07142857142857142, 'hands': 0.07142857142857142, 'labs': 0.07142857142857142, 'expert': 0.07142857142857142, 'instructors': 0.07142857142857142, 'included': 0.07142857142857142, 'focused': 0.07142857142857142, 'school': 0.07142857142857142, 'provided': 0.07142857142857142, 'bunch': 0.07142857142857142, 'assets': 0.07142857142857142, 'help': 0.07142857142857142}\n",
            "[In an attempt to build an AI-ready workforce, Microsoft announced Intelligent Cloud Hub which has been launched to empower the next generation of students with AI-ready skills., Envisioned as a three-year collaborative program, Intelligent Cloud Hub will support around 100 institutions with AI infrastructure, course content and curriculum, developer support, development tools and give students access to cloud and AI services., As part of the program, the Redmond giant which wants to expand its reach and is planning to build a strong developer ecosystem in India with the program will set up the core AI infrastructure and IoT Hub for the selected campuses., The company will provide AI development tools and Azure AI services such as Microsoft Cognitive Services, Bot Services and Azure Machine Learning., According to Manish Prakash, Country General Manager-PS, Health and Education, Microsoft India, said, \"With AI being the defining technology of our time, it is transforming lives and industry and the jobs of tomorrow will require a different skillset., This will require more collaborations and training and working with AI., That’s why it has become more critical than ever for educational institutions to integrate new cloud and AI technologies., The program is an attempt to ramp up the institutional set-up and build capabilities among the educators to educate the workforce of tomorrow., \", The program aims to build up the cognitive skills and in-depth understanding of developing intelligent cloud connected solutions for applications across industry., Earlier in April this year, the company announced Microsoft Professional Program, In AI as a learning track open to the public., The program was developed to provide job ready skills to programmers who wanted to hone their skills in AI and data science with a series of online courses which featured hands-on labs and expert instructors as well., This program also included developer-focused AI school that provided a bunch of assets to help build AI skills.]\n"
          ],
          "name": "stdout"
        }
      ]
    },
    {
      "cell_type": "code",
      "metadata": {
        "colab": {
          "base_uri": "https://localhost:8080/"
        },
        "id": "5loiLjaIhLlo",
        "outputId": "fba74860-4494-41e6-8ea5-e34f4f515e81"
      },
      "source": [
        "sentence_scores = {}\n",
        "for sent in sentence_tokens:\n",
        "  for word in sent:\n",
        "    if word.text.lower() in word_frequencies.keys():\n",
        "      if sent not in sentence_scores.keys():\n",
        "        sentence_scores[sent] = word_frequencies[word.text.lower()]\n",
        "      else:\n",
        "        sentence_scores[sent] += word_frequencies[word.text.lower()]\n",
        "print(sentence_scores)"
      ],
      "execution_count": 44,
      "outputs": [
        {
          "output_type": "stream",
          "text": [
            "{In an attempt to build an AI-ready workforce, Microsoft announced Intelligent Cloud Hub which has been launched to empower the next generation of students with AI-ready skills.: 2.214285714285714, Envisioned as a three-year collaborative program, Intelligent Cloud Hub will support around 100 institutions with AI infrastructure, course content and curriculum, developer support, development tools and give students access to cloud and AI services.: 2.9285714285714284, As part of the program, the Redmond giant which wants to expand its reach and is planning to build a strong developer ecosystem in India with the program will set up the core AI infrastructure and IoT Hub for the selected campuses.: 2.5714285714285716, The company will provide AI development tools and Azure AI services such as Microsoft Cognitive Services, Bot Services and Azure Machine Learning.: 1.1428571428571426, According to Manish Prakash, Country General Manager-PS, Health and Education, Microsoft India, said, \"With AI being the defining technology of our time, it is transforming lives and industry and the jobs of tomorrow will require a different skillset.: 1.0714285714285712, This will require more collaborations and training and working with AI.: 0.3571428571428571, That’s why it has become more critical than ever for educational institutions to integrate new cloud and AI technologies.: 0.7142857142857142, The program is an attempt to ramp up the institutional set-up and build capabilities among the educators to educate the workforce of tomorrow.: 1.7857142857142854, The program aims to build up the cognitive skills and in-depth understanding of developing intelligent cloud connected solutions for applications across industry.: 2.214285714285714, Earlier in April this year, the company announced Microsoft Professional Program: 0.9285714285714286, In AI as a learning track open to the public.: 0.2857142857142857, The program was developed to provide job ready skills to programmers who wanted to hone their skills in AI and data science with a series of online courses which featured hands-on labs and expert instructors as well.: 2.642857142857144, This program also included developer-focused AI school that provided a bunch of assets to help build AI skills.: 1.9285714285714286}\n"
          ],
          "name": "stdout"
        }
      ]
    },
    {
      "cell_type": "code",
      "metadata": {
        "id": "o0aTKSw3oUXe"
      },
      "source": [
        "from heapq import nlargest"
      ],
      "execution_count": 45,
      "outputs": []
    },
    {
      "cell_type": "code",
      "metadata": {
        "colab": {
          "base_uri": "https://localhost:8080/"
        },
        "id": "GMHFge80oa_H",
        "outputId": "bbcf2cac-c064-4ae0-b454-e8276a11b7d7"
      },
      "source": [
        "select_length = int(len(sentence_tokens) *0.3)\n",
        "print(select_length)\n",
        "\n",
        "summary = nlargest(select_length, sentence_scores, key=sentence_scores.get)"
      ],
      "execution_count": 59,
      "outputs": [
        {
          "output_type": "stream",
          "text": [
            "4\n"
          ],
          "name": "stdout"
        }
      ]
    },
    {
      "cell_type": "code",
      "metadata": {
        "colab": {
          "base_uri": "https://localhost:8080/"
        },
        "id": "XJ5MjUJiokaI",
        "outputId": "1f5f676a-9d3d-495d-e084-028405906a70"
      },
      "source": [
        "summary"
      ],
      "execution_count": 60,
      "outputs": [
        {
          "output_type": "execute_result",
          "data": {
            "text/plain": [
              "[Envisioned as a three-year collaborative program, Intelligent Cloud Hub will support around 100 institutions with AI infrastructure, course content and curriculum, developer support, development tools and give students access to cloud and AI services.,\n",
              " The program was developed to provide job ready skills to programmers who wanted to hone their skills in AI and data science with a series of online courses which featured hands-on labs and expert instructors as well.,\n",
              " As part of the program, the Redmond giant which wants to expand its reach and is planning to build a strong developer ecosystem in India with the program will set up the core AI infrastructure and IoT Hub for the selected campuses.,\n",
              " In an attempt to build an AI-ready workforce, Microsoft announced Intelligent Cloud Hub which has been launched to empower the next generation of students with AI-ready skills.]"
            ]
          },
          "metadata": {
            "tags": []
          },
          "execution_count": 60
        }
      ]
    },
    {
      "cell_type": "code",
      "metadata": {
        "colab": {
          "base_uri": "https://localhost:8080/",
          "height": 160
        },
        "id": "zi_BSMbColpe",
        "outputId": "486b7557-26e5-40ed-ba0f-74bd588dbb59"
      },
      "source": [
        "final_summary = [word.text for word in summary]\n",
        "summary = ''.join(final_summary)\n",
        "summary"
      ],
      "execution_count": 61,
      "outputs": [
        {
          "output_type": "execute_result",
          "data": {
            "application/vnd.google.colaboratory.intrinsic+json": {
              "type": "string"
            },
            "text/plain": [
              "'Envisioned as a three-year collaborative program, Intelligent Cloud Hub will support around 100 institutions with AI infrastructure, course content and curriculum, developer support, development tools and give students access to cloud and AI services.The program was developed to provide job ready skills to programmers who wanted to hone their skills in AI and data science with a series of online courses which featured hands-on labs and expert instructors as well.As part of the program, the Redmond giant which wants to expand its reach and is planning to build a strong developer ecosystem in India with the program will set up the core AI infrastructure and IoT Hub for the selected campuses.In an attempt to build an AI-ready workforce, Microsoft announced Intelligent Cloud Hub which has been launched to empower the next generation of students with AI-ready skills.'"
            ]
          },
          "metadata": {
            "tags": []
          },
          "execution_count": 61
        }
      ]
    },
    {
      "cell_type": "code",
      "metadata": {
        "colab": {
          "base_uri": "https://localhost:8080/",
          "height": 320
        },
        "id": "PUB9XF0zpD8z",
        "outputId": "41c7c7cc-dc61-4bb1-8adf-32aff54c1e4f"
      },
      "source": [
        "text"
      ],
      "execution_count": 55,
      "outputs": [
        {
          "output_type": "execute_result",
          "data": {
            "application/vnd.google.colaboratory.intrinsic+json": {
              "type": "string"
            },
            "text/plain": [
              "'In an attempt to build an AI-ready workforce, Microsoft announced Intelligent Cloud Hub which has been launched to empower the next generation of students with AI-ready skills. Envisioned as a three-year collaborative program, Intelligent Cloud Hub will support around 100 institutions with AI infrastructure, course content and curriculum, developer support, development tools and give students access to cloud and AI services. As part of the program, the Redmond giant which wants to expand its reach and is planning to build a strong developer ecosystem in India with the program will set up the core AI infrastructure and IoT Hub for the selected campuses. The company will provide AI development tools and Azure AI services such as Microsoft Cognitive Services, Bot Services and Azure Machine Learning.According to Manish Prakash, Country General Manager-PS, Health and Education, Microsoft India, said, \"With AI being the defining technology of our time, it is transforming lives and industry and the jobs of tomorrow will require a different skillset. This will require more collaborations and training and working with AI. That’s why it has become more critical than ever for educational institutions to integrate new cloud and AI technologies. The program is an attempt to ramp up the institutional set-up and build capabilities among the educators to educate the workforce of tomorrow.\" The program aims to build up the cognitive skills and in-depth understanding of developing intelligent cloud connected solutions for applications across industry. Earlier in April this year, the company announced Microsoft Professional Program In AI as a learning track open to the public. The program was developed to provide job ready skills to programmers who wanted to hone their skills in AI and data science with a series of online courses which featured hands-on labs and expert instructors as well. This program also included developer-focused AI school that provided a bunch of assets to help build AI skills.'"
            ]
          },
          "metadata": {
            "tags": []
          },
          "execution_count": 55
        }
      ]
    }
  ]
}